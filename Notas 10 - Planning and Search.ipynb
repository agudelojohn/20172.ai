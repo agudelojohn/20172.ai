{
 "cells": [
  {
   "cell_type": "code",
   "execution_count": 1,
   "metadata": {
    "collapsed": true
   },
   "outputs": [],
   "source": [
    "import numpy as np\n",
    "import matplotlib.pyplot as plt\n",
    "import pandas as pd\n",
    "%matplotlib inline"
   ]
  },
  {
   "cell_type": "code",
   "execution_count": 2,
   "metadata": {},
   "outputs": [],
   "source": [
    "EMPTY, WALL, TARGET, USED = \".\",\"X\",\"T\",\"o\"\n",
    "c  = pd.Series({\"EMPTY\": \".\", \"WALL\":\"X\", \"TARGET\":\"T\", \"USED\":\"o\"})\n",
    "ci = pd.Series({\".\": 0, \"X\": 255, \"T\":100, \"o\":200})\n",
    "\n",
    "def plot_map(grid,p=[]):\n",
    "    plt.imshow(np.r_[[[ci[i] for i in j] for j in grid]], alpha=.5)\n",
    "    if(len(p)>0):\n",
    "        for i in range(len(p)-1):\n",
    "            plt.plot([p[i][1],p[i+1][1]],[p[i][0],p[i+1][0]], color=\"black\", lw=4)    \n",
    "        plt.title(\"path length = %d\"%len(p))"
   ]
  },
  {
   "cell_type": "code",
   "execution_count": 3,
   "metadata": {},
   "outputs": [
    {
     "data": {
      "image/png": "[encoded data removed]",
      "text/plain": [
       "<matplotlib.figure.Figure at 0xadc5372c>"
      ]
     },
     "metadata": {},
     "output_type": "display_data"
    }
   ],
   "source": [
    "grid = [\".....X\",\n",
    "        \"XX...X\",\n",
    "        \"...X..\",\n",
    "        \".XX..X\",\n",
    "        \".X...T\"]\n",
    "\n",
    "plot_map(grid)"
   ]
  },
  {
   "cell_type": "markdown",
   "metadata": {},
   "source": [
    "# Breath First Search\n",
    "\n",
    "This is **breadth first**. We put the initial node into the queue. Then repeat this procedure until visit the goal node or visit all available nodes: take the first from the queue, check if it was visited or not, check if it's the goal, put all neighbours in the end of the queue, repeat. For each step we track not only the nodes, but directions and the path for the current node too.\n",
    "\n",
    "- does it give the best answer?\n",
    "\n",
    "\n",
    "See [here](http://bryukh.com/labyrinth-algorithms/)."
   ]
  },
  {
   "cell_type": "code",
   "execution_count": 4,
   "metadata": {
    "collapsed": true
   },
   "outputs": [],
   "source": [
    "from collections import deque\n",
    "\n",
    "def bfs_search(grid, verbose=True):\n",
    "    n_iterations   = 0\n",
    "    max_queue_len  = 0\n",
    "    start = (0, 0)\n",
    "    queue = deque([([], start)])\n",
    "    visited = set()\n",
    "    while queue:\n",
    "        n_iterations += 1\n",
    "        max_queue_len = max_queue_len if len(queue) < max_queue_len else len(queue)\n",
    "        path, (y,x) = queue.popleft()\n",
    "        if grid[y][x] == c.TARGET:\n",
    "            if verbose:\n",
    "                print \"n_iterations %d, max_queue_len %d\"%(n_iterations, max_queue_len)\n",
    "            return path+[(y,x)]\n",
    "        if (y,x) in visited:\n",
    "            continue\n",
    "        visited.add((y,x))\n",
    "        moves = [ [y,x+1], [y-1,x], [y,x-1], [y+1,x]]\n",
    "        for move in moves:\n",
    "            my,mx = move\n",
    "            if mx>=0 and mx<len(grid[0]) and my>=0 and my<len(grid) and grid[my][mx]!=c.WALL:                \n",
    "                queue.append((path + [(y,x)], move))\n",
    "    return []"
   ]
  },
  {
   "cell_type": "code",
   "execution_count": 5,
   "metadata": {},
   "outputs": [
    {
     "name": "stdout",
     "output_type": "stream",
     "text": [
      "n_iterations 39, max_queue_len 8\n",
      "success True\n"
     ]
    },
    {
     "data": {
      "image/png": "[encoded data removed]",
      "text/plain": [
       "<matplotlib.figure.Figure at 0xabf7de6c>"
      ]
     },
     "metadata": {},
     "output_type": "display_data"
    }
   ],
   "source": [
    "p=bfs_search(grid)\n",
    "print \"success\", len(p)>0\n",
    "plot_map(grid, p)"
   ]
  },
  {
   "cell_type": "markdown",
   "metadata": {},
   "source": [
    "# Depth First Search\n",
    "\n",
    "This is **depth first**. We simply use the other way around.\n",
    "\n",
    "- Does it give the best answer?\n",
    "- How is its computational complexity as compared with  BFS?"
   ]
  },
  {
   "cell_type": "code",
   "execution_count": 6,
   "metadata": {
    "collapsed": true
   },
   "outputs": [],
   "source": [
    "from collections import deque\n",
    "\n",
    "def dfs_search(grid, verbose=True):\n",
    "    n_iterations   = 0\n",
    "    max_queue_len  = 0\n",
    "    start = (0, 0)\n",
    "    queue = deque([([], start)])\n",
    "    visited = set()\n",
    "    while queue:\n",
    "        n_iterations += 1\n",
    "        max_queue_len = max_queue_len if len(queue) < max_queue_len else len(queue)\n",
    "        path, (y,x) = queue.pop()\n",
    "        if grid[y][x] == c.TARGET:\n",
    "            if verbose:\n",
    "                print \"n_iterations %d, max_queue_len %d\"%(n_iterations, max_queue_len)\n",
    "            return path+[(y,x)]\n",
    "        if (y,x) in visited:\n",
    "            continue\n",
    "        visited.add((y,x))\n",
    "        moves = [ [y,x+1], [y-1,x], [y,x-1], [y+1,x]]\n",
    "        for move in moves:\n",
    "            my,mx = move\n",
    "            if mx>=0 and mx<len(grid[0]) and my>=0 and my<len(grid) and grid[my][mx]!=c.WALL:                \n",
    "                queue.append((path + [(y,x)], move))\n",
    "    return []"
   ]
  },
  {
   "cell_type": "code",
   "execution_count": 7,
   "metadata": {},
   "outputs": [
    {
     "name": "stdout",
     "output_type": "stream",
     "text": [
      "n_iterations 35, max_queue_len 15\n",
      "success True\n"
     ]
    },
    {
     "data": {
      "image/png": "[encoded data removed]",
      "text/plain": [
       "<matplotlib.figure.Figure at 0xabf4a9ac>"
      ]
     },
     "metadata": {},
     "output_type": "display_data"
    }
   ],
   "source": [
    "p=dfs_search(grid)\n",
    "print \"success\", len(p)>0\n",
    "plot_map(grid, p)"
   ]
  },
  {
   "cell_type": "code",
   "execution_count": 8,
   "metadata": {},
   "outputs": [
    {
     "data": {
      "image/png": "[encoded data removed]",
      "text/plain": [
       "<matplotlib.figure.Figure at 0xabe4af4c>"
      ]
     },
     "metadata": {},
     "output_type": "display_data"
    }
   ],
   "source": [
    "def generate_maze(size):\n",
    "    grid = (np.random.random(size=size)>.8)*1\n",
    "    grid = [[c.WALL if grid[x,y] else c.EMPTY for y in range(grid.shape[1])] for x in range(grid.shape[0])]\n",
    "    grid[-1][-1]=c.TARGET\n",
    "    return grid\n",
    "grid = generate_maze(size=(30,50))\n",
    "plot_map(grid)"
   ]
  },
  {
   "cell_type": "code",
   "execution_count": 9,
   "metadata": {},
   "outputs": [
    {
     "name": "stdout",
     "output_type": "stream",
     "text": [
      "n_iterations 3432, max_queue_len 102\n",
      "success True\n",
      "1 loop, best of 3: 336 ms per loop\n"
     ]
    },
    {
     "data": {
      "image/png": "[encoded data removed]",
      "text/plain": [
       "<matplotlib.figure.Figure at 0xabe57bcc>"
      ]
     },
     "metadata": {},
     "output_type": "display_data"
    }
   ],
   "source": [
    "p_bfs = bfs_search(grid)\n",
    "print \"success\", len(p_bfs)>0\n",
    "%timeit bfs_search(grid, verbose=False)\n",
    "plot_map(grid, p_bfs)"
   ]
  },
  {
   "cell_type": "code",
   "execution_count": 10,
   "metadata": {},
   "outputs": [
    {
     "name": "stdout",
     "output_type": "stream",
     "text": [
      "n_iterations 1924, max_queue_len 1046\n",
      "success True\n",
      "1 loop, best of 3: 357 ms per loop\n"
     ]
    },
    {
     "data": {
      "image/png": "[encoded data removed]",
      "text/plain": [
       "<matplotlib.figure.Figure at 0xabcb5f6c>"
      ]
     },
     "metadata": {},
     "output_type": "display_data"
    }
   ],
   "source": [
    "p_dfs = dfs_search(grid)\n",
    "print \"success\", len(p_dfs)>0\n",
    "%timeit dfs_search(grid, verbose=False)\n",
    "plot_map(grid, p_dfs)"
   ]
  },
  {
   "cell_type": "markdown",
   "metadata": {},
   "source": [
    "### let's shorten the answer of DFS\n",
    "\n",
    "- is it now the best answer?"
   ]
  },
  {
   "cell_type": "code",
   "execution_count": 11,
   "metadata": {},
   "outputs": [],
   "source": [
    "pp = np.r_[p_dfs]\n",
    "i=0\n",
    "while i<len(pp):\n",
    "    for k in range(i+2, len(pp)):\n",
    "        if np.sum(np.abs(pp[i]-pp[k]))==1:\n",
    "            pp = np.concatenate((pp[:i+1], list(pp[k:])))\n",
    "            break\n",
    "    i+=1"
   ]
  },
  {
   "cell_type": "code",
   "execution_count": 12,
   "metadata": {},
   "outputs": [
    {
     "data": {
      "image/png": "[encoded data removed]",
      "text/plain": [
       "<matplotlib.figure.Figure at 0xabcae86c>"
      ]
     },
     "metadata": {},
     "output_type": "display_data"
    }
   ],
   "source": [
    "plot_map(grid, pp)"
   ]
  },
  {
   "cell_type": "markdown",
   "metadata": {},
   "source": [
    "observe computing times. larger mazes makes DFS more iterations (but slower due to data structures which should be improved)"
   ]
  },
  {
   "cell_type": "code",
   "execution_count": 14,
   "metadata": {},
   "outputs": [
    {
     "name": "stdout",
     "output_type": "stream",
     "text": [
      "10 loops, best of 3: 25.5 ms per loop\n",
      "100 loops, best of 3: 21.5 ms per loop\n",
      "bfs solution len n_iterations 439, max_queue_len 37\n",
      "29\n",
      "dfs solution len n_iterations 270, max_queue_len 139\n",
      "117\n"
     ]
    }
   ],
   "source": [
    "grid = generate_maze(size=(10,20))\n",
    "%timeit bfs_search(grid, verbose=False)\n",
    "%timeit dfs_search(grid, verbose=False)\n",
    "\n",
    "print \"bfs solution len\", len(bfs_search(grid))\n",
    "print \"dfs solution len\", len(dfs_search(grid))"
   ]
  },
  {
   "cell_type": "code",
   "execution_count": 15,
   "metadata": {},
   "outputs": [
    {
     "name": "stdout",
     "output_type": "stream",
     "text": [
      "10 loops, best of 3: 98.5 ms per loop\n",
      "10 loops, best of 3: 73.9 ms per loop\n",
      "bfs solution len n_iterations 1570, max_queue_len 72\n",
      "49\n",
      "dfs solution len n_iterations 903, max_queue_len 486\n",
      "337\n"
     ]
    }
   ],
   "source": [
    "grid = generate_maze(size=(20,30))\n",
    "%timeit bfs_search(grid, verbose=False)\n",
    "%timeit dfs_search(grid, verbose=False)\n",
    "\n",
    "print \"bfs solution len\", len(bfs_search(grid))\n",
    "print \"dfs solution len\", len(dfs_search(grid))"
   ]
  },
  {
   "cell_type": "code",
   "execution_count": 16,
   "metadata": {},
   "outputs": [
    {
     "name": "stdout",
     "output_type": "stream",
     "text": [
      "1 loop, best of 3: 357 ms per loop\n",
      "1 loop, best of 3: 322 ms per loop\n",
      "bfs solution len n_iterations 6224, max_queue_len 171\n",
      "99\n",
      "dfs solution len n_iterations 3574, max_queue_len 1560\n",
      "1111\n"
     ]
    }
   ],
   "source": [
    "grid = generate_maze(size=(50,50))\n",
    "%timeit bfs_search(grid, verbose=False)\n",
    "%timeit dfs_search(grid, verbose=False)\n",
    "\n",
    "print \"bfs solution len\", len(bfs_search(grid))\n",
    "print \"dfs solution len\", len(dfs_search(grid))"
   ]
  },
  {
   "cell_type": "markdown",
   "metadata": {},
   "source": [
    "**exercise A* algorithm**"
   ]
  },
  {
   "cell_type": "code",
   "execution_count": null,
   "metadata": {
    "collapsed": true
   },
   "outputs": [],
   "source": []
  }
 ],
 "metadata": {
  "kernelspec": {
   "display_name": "Python 2",
   "language": "python",
   "name": "python2"
  },
  "language_info": {
   "codemirror_mode": {
    "name": "ipython",
    "version": 2
   },
   "file_extension": ".py",
   "mimetype": "text/x-python",
   "name": "python",
   "nbconvert_exporter": "python",
   "pygments_lexer": "ipython2",
   "version": "2.7.13"
  },
  "widgets": {
   "state": {},
   "version": "1.1.2"
  }
 },
 "nbformat": 4,
 "nbformat_minor": 2
}
